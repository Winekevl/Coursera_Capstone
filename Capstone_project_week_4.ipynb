{
    "cells": [
        {
            "metadata": {
                "collapsed": true
            },
            "cell_type": "markdown",
            "source": "# Capstone Project Week 4"
        },
        {
            "metadata": {},
            "cell_type": "markdown",
            "source": "## Problem description and background\n\nIn this report we will explore what would be the best location to open an Italian restaurant in the Amsterdam the most capital of The Netherlands. \n\nAmsterdam is the capital and most populous city of the Netherlands with a population of 872,680 within the city proper, 1,558,755 in the urban area. It is an attractive town that is popular with tourists but also for families and expats due to its large International School and location near to Schiphol Airport. The city has many restaurants of all nationalities and is famous for its nightlife. \n\nThe business plan for the Italian restaurant aims to open a high quality Italian restaurant in Amsterdam with at least 70 seats. The real estate agent has provided several locations that meet the requirements of the building: at least 130 square meters for customers, at least 35 square meters for the kitchen, right permits on the building to start a restaurant. \n\nAs the selected locations for the Italian restaurant are more or less comparable, the final decision for the location of the Italian restaurant will therefore be based on the neighbourhood. The Italian restaurant wants to know the following things about the neighbourhoods of each restaurant:\n1. How comparable are the neighbourhoods? \n2. How many competing Italian restaurant are available in these neighbourhoods? \n"
        },
        {
            "metadata": {},
            "cell_type": "markdown",
            "source": "## Method and data collection\n\nFor each research question wwe discuss the method and data used to answer the question. \n\nAnalyzing the comparability of neighbourhoods in Amsterdam\n1. First data is needed to define the neighbourhoods. For this we use data from the city of Amsterdam: 'https://allecijfers.nl/gemeente-overzicht/amsterdam/'. We will use webscraping within Python to collect actual data from this website. After collecting the data on the neighbourhoods we need to plot this information on a map of Amsterdam. \n2. Next data on the venues in Amsterdam is needed. We use data from a location data provider for this purpose. Foursqaure has been selected for this project. IN Python an API will be built to collect real time location data.\n3. Combing the data on the neighbourhoods and the venues is the next step. The result of this step is an analysis of the top 5 venues in each neighbourhood. However Amsterdam has many neighbourhoods so a smarter way to measure comparability of neighbourhoods is needed. \n4. Artifical Intelligence will be used to measure the comparbility of the neighbourhoods. For this particular problem K means clustering will be used to cluster the neighbourhoods. We will distinguish 20 neighbourhoods out of the more than 400 neighbourhoods in Amsterdam. The finaly result of the neighbourhoods will be plotted on a map of Amsterdam. Also an overview of the characteristics of each cluster will be provided. \n5. Finally the location provided by the real estate agents are connected to a cluster of neighbourhoods. \n\nAnalyzing competing Italian restaurants in Amsterdam\n1. Starting point is data on the Italian restaurants in Amsterdam. This will be collected with an API on Foursquare. \n2. Data on the neighbourhoods in Amsterdam will be used.\n3. Combing the data on the neighbourhoods and the venues is the next step. The result of this step is an analysis Italian restaurants in each neighbourhood of Amsterdam. \n4. The postal codes of the as given by the real estate agent will be used to select only the competing Italian restaurants near each selected location. This leads to the final result: a table of all competing italian restaurants near each selected location. \n\n"
        }
    ],
    "metadata": {
        "kernelspec": {
            "name": "python3",
            "display_name": "Python 3.7",
            "language": "python"
        },
        "language_info": {
            "name": "python",
            "version": "3.7.9",
            "mimetype": "text/x-python",
            "codemirror_mode": {
                "name": "ipython",
                "version": 3
            },
            "pygments_lexer": "ipython3",
            "nbconvert_exporter": "python",
            "file_extension": ".py"
        }
    },
    "nbformat": 4,
    "nbformat_minor": 1
}